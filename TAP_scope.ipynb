{
 "cells": [
  {
   "cell_type": "markdown",
   "metadata": {},
   "source": [
    "# <center> *** SCOPE AND WORKLOAD OF THE TICKETS BY MONTHLY/DAILY/HOURLY ***</center>"
   ]
  },
  {
   "cell_type": "code",
   "execution_count": 1,
   "metadata": {},
   "outputs": [],
   "source": [
    "import pandas as pd\n",
    "import numpy as np"
   ]
  },
  {
   "cell_type": "code",
   "execution_count": 2,
   "metadata": {},
   "outputs": [],
   "source": [
    "df=pd.read_excel('C:\\\\Users\\\\MaheshAlleswaram\\\\Desktop\\\\ticket.xlsx')"
   ]
  },
  {
   "cell_type": "code",
   "execution_count": 3,
   "metadata": {},
   "outputs": [
    {
     "data": {
      "text/html": [
       "<div>\n",
       "<style scoped>\n",
       "    .dataframe tbody tr th:only-of-type {\n",
       "        vertical-align: middle;\n",
       "    }\n",
       "\n",
       "    .dataframe tbody tr th {\n",
       "        vertical-align: top;\n",
       "    }\n",
       "\n",
       "    .dataframe thead th {\n",
       "        text-align: right;\n",
       "    }\n",
       "</style>\n",
       "<table border=\"1\" class=\"dataframe\">\n",
       "  <thead>\n",
       "    <tr style=\"text-align: right;\">\n",
       "      <th></th>\n",
       "      <th>TICKETID</th>\n",
       "      <th>OPEN</th>\n",
       "      <th>ASSIGNDATE</th>\n",
       "      <th>RESOLVE</th>\n",
       "      <th>CLOSE</th>\n",
       "      <th>RESOLVERGROUP</th>\n",
       "      <th>RESOLVER</th>\n",
       "      <th>DESCRIPTION</th>\n",
       "      <th>INTERNALPRIORITY</th>\n",
       "      <th>STATUS</th>\n",
       "      <th>...</th>\n",
       "      <th>ASSETNUM</th>\n",
       "      <th>CINUM</th>\n",
       "      <th>CLASS</th>\n",
       "      <th>DURATION</th>\n",
       "      <th>NORMALIZED_SLA_TIME</th>\n",
       "      <th>SLA</th>\n",
       "      <th>NUMBER_HOPS</th>\n",
       "      <th>INVOLVED_GROUPS</th>\n",
       "      <th>groups</th>\n",
       "      <th>repeat hops</th>\n",
       "    </tr>\n",
       "  </thead>\n",
       "  <tbody>\n",
       "    <tr>\n",
       "      <th>0</th>\n",
       "      <td>SR61876354</td>\n",
       "      <td>2019-05-01 00:10:57</td>\n",
       "      <td>2019-05-01 00:12:29</td>\n",
       "      <td>2019-05-01 04:33:09</td>\n",
       "      <td>2019-05-06 13:13:29</td>\n",
       "      <td>I-EUS-DE-CSC-SDK-HLCFRONTDESK3</td>\n",
       "      <td>T_EBOND@HLAG.COM</td>\n",
       "      <td>VOIP - chrismi - Change User</td>\n",
       "      <td>3</td>\n",
       "      <td>CLOSED</td>\n",
       "      <td>...</td>\n",
       "      <td>NaN</td>\n",
       "      <td>PBUE2548</td>\n",
       "      <td>SR</td>\n",
       "      <td>15731.0</td>\n",
       "      <td>469.0</td>\n",
       "      <td>IN</td>\n",
       "      <td>1</td>\n",
       "      <td>I-EUS-DE-CSC-SDK-HLCFRONTDESK3</td>\n",
       "      <td>1</td>\n",
       "      <td>0</td>\n",
       "    </tr>\n",
       "    <tr>\n",
       "      <th>1</th>\n",
       "      <td>IN62701632</td>\n",
       "      <td>2019-05-01 00:13:47</td>\n",
       "      <td>2019-05-01 00:14:00</td>\n",
       "      <td>2019-05-01 04:33:09</td>\n",
       "      <td>2019-05-06 13:13:29</td>\n",
       "      <td>I-EUS-DE-CSC-SDK-HLCFRONTDESK</td>\n",
       "      <td>T_EBOND@HLAG.COM</td>\n",
       "      <td>VOIP - chrismi - Change User</td>\n",
       "      <td>2</td>\n",
       "      <td>CLOSED</td>\n",
       "      <td>...</td>\n",
       "      <td>NaN</td>\n",
       "      <td>PBUE2548</td>\n",
       "      <td>INCIDENT</td>\n",
       "      <td>15562.0</td>\n",
       "      <td>300.0</td>\n",
       "      <td>IN</td>\n",
       "      <td>2</td>\n",
       "      <td>C-HLC-WW-X-SITA-CHANGE, I-EUS-DE-CSC-SDK-HLCFR...</td>\n",
       "      <td>2</td>\n",
       "      <td>0</td>\n",
       "    </tr>\n",
       "    <tr>\n",
       "      <th>2</th>\n",
       "      <td>SR61876355</td>\n",
       "      <td>2019-05-01 00:15:57</td>\n",
       "      <td>2019-05-01 00:16:53</td>\n",
       "      <td>2019-05-01 04:52:28</td>\n",
       "      <td>2019-05-06 13:09:41</td>\n",
       "      <td>I-EUS-DE-CSC-SDK-HLCFRONTDESK3</td>\n",
       "      <td>T_EBOND@HLAG.COM</td>\n",
       "      <td>VOIP - yangkh - Change User</td>\n",
       "      <td>3</td>\n",
       "      <td>CLOSED</td>\n",
       "      <td>...</td>\n",
       "      <td>NaN</td>\n",
       "      <td>PSEL1624</td>\n",
       "      <td>SR</td>\n",
       "      <td>16590.0</td>\n",
       "      <td>967.0</td>\n",
       "      <td>IN</td>\n",
       "      <td>1</td>\n",
       "      <td>I-EUS-DE-CSC-SDK-HLCFRONTDESK3</td>\n",
       "      <td>1</td>\n",
       "      <td>0</td>\n",
       "    </tr>\n",
       "    <tr>\n",
       "      <th>3</th>\n",
       "      <td>IN62701633</td>\n",
       "      <td>2019-05-01 00:16:36</td>\n",
       "      <td>2019-05-01 00:16:36</td>\n",
       "      <td>2019-05-01 06:36:33</td>\n",
       "      <td>2019-05-02 11:03:21</td>\n",
       "      <td>I-SSO-US-SMD-INT-WINTEL-HLU</td>\n",
       "      <td>GSMAE6XA@DE.IBM.COM</td>\n",
       "      <td>hlc#khlubu01#An entry in EventLog occured: The...</td>\n",
       "      <td>2</td>\n",
       "      <td>CLOSED</td>\n",
       "      <td>...</td>\n",
       "      <td>NaN</td>\n",
       "      <td>NaN</td>\n",
       "      <td>INCIDENT</td>\n",
       "      <td>22797.0</td>\n",
       "      <td>22797.0</td>\n",
       "      <td>IN</td>\n",
       "      <td>1</td>\n",
       "      <td>I-SSO-US-SMD-INT-WINTEL-HLU</td>\n",
       "      <td>1</td>\n",
       "      <td>0</td>\n",
       "    </tr>\n",
       "    <tr>\n",
       "      <th>4</th>\n",
       "      <td>IN62701634</td>\n",
       "      <td>2019-05-01 00:17:45</td>\n",
       "      <td>2019-05-01 00:17:58</td>\n",
       "      <td>2019-05-01 04:52:28</td>\n",
       "      <td>2019-05-06 13:09:41</td>\n",
       "      <td>I-EUS-DE-CSC-SDK-HLCFRONTDESK</td>\n",
       "      <td>T_EBOND@HLAG.COM</td>\n",
       "      <td>VOIP - yangkh - Change User</td>\n",
       "      <td>2</td>\n",
       "      <td>CLOSED</td>\n",
       "      <td>...</td>\n",
       "      <td>NaN</td>\n",
       "      <td>PSEL1624</td>\n",
       "      <td>INCIDENT</td>\n",
       "      <td>16482.0</td>\n",
       "      <td>859.0</td>\n",
       "      <td>IN</td>\n",
       "      <td>2</td>\n",
       "      <td>C-HLC-WW-X-SITA-CHANGE, I-EUS-DE-CSC-SDK-HLCFR...</td>\n",
       "      <td>2</td>\n",
       "      <td>0</td>\n",
       "    </tr>\n",
       "  </tbody>\n",
       "</table>\n",
       "<p>5 rows × 23 columns</p>\n",
       "</div>"
      ],
      "text/plain": [
       "     TICKETID                OPEN          ASSIGNDATE             RESOLVE  \\\n",
       "0  SR61876354 2019-05-01 00:10:57 2019-05-01 00:12:29 2019-05-01 04:33:09   \n",
       "1  IN62701632 2019-05-01 00:13:47 2019-05-01 00:14:00 2019-05-01 04:33:09   \n",
       "2  SR61876355 2019-05-01 00:15:57 2019-05-01 00:16:53 2019-05-01 04:52:28   \n",
       "3  IN62701633 2019-05-01 00:16:36 2019-05-01 00:16:36 2019-05-01 06:36:33   \n",
       "4  IN62701634 2019-05-01 00:17:45 2019-05-01 00:17:58 2019-05-01 04:52:28   \n",
       "\n",
       "                CLOSE                   RESOLVERGROUP             RESOLVER  \\\n",
       "0 2019-05-06 13:13:29  I-EUS-DE-CSC-SDK-HLCFRONTDESK3     T_EBOND@HLAG.COM   \n",
       "1 2019-05-06 13:13:29   I-EUS-DE-CSC-SDK-HLCFRONTDESK     T_EBOND@HLAG.COM   \n",
       "2 2019-05-06 13:09:41  I-EUS-DE-CSC-SDK-HLCFRONTDESK3     T_EBOND@HLAG.COM   \n",
       "3 2019-05-02 11:03:21     I-SSO-US-SMD-INT-WINTEL-HLU  GSMAE6XA@DE.IBM.COM   \n",
       "4 2019-05-06 13:09:41   I-EUS-DE-CSC-SDK-HLCFRONTDESK     T_EBOND@HLAG.COM   \n",
       "\n",
       "                                         DESCRIPTION  INTERNALPRIORITY  \\\n",
       "0                       VOIP - chrismi - Change User                 3   \n",
       "1                       VOIP - chrismi - Change User                 2   \n",
       "2                        VOIP - yangkh - Change User                 3   \n",
       "3  hlc#khlubu01#An entry in EventLog occured: The...                 2   \n",
       "4                        VOIP - yangkh - Change User                 2   \n",
       "\n",
       "   STATUS  ... ASSETNUM     CINUM     CLASS  DURATION NORMALIZED_SLA_TIME SLA  \\\n",
       "0  CLOSED  ...      NaN  PBUE2548        SR   15731.0               469.0  IN   \n",
       "1  CLOSED  ...      NaN  PBUE2548  INCIDENT   15562.0               300.0  IN   \n",
       "2  CLOSED  ...      NaN  PSEL1624        SR   16590.0               967.0  IN   \n",
       "3  CLOSED  ...      NaN       NaN  INCIDENT   22797.0             22797.0  IN   \n",
       "4  CLOSED  ...      NaN  PSEL1624  INCIDENT   16482.0               859.0  IN   \n",
       "\n",
       "   NUMBER_HOPS                                    INVOLVED_GROUPS groups  \\\n",
       "0            1                     I-EUS-DE-CSC-SDK-HLCFRONTDESK3      1   \n",
       "1            2  C-HLC-WW-X-SITA-CHANGE, I-EUS-DE-CSC-SDK-HLCFR...      2   \n",
       "2            1                     I-EUS-DE-CSC-SDK-HLCFRONTDESK3      1   \n",
       "3            1                        I-SSO-US-SMD-INT-WINTEL-HLU      1   \n",
       "4            2  C-HLC-WW-X-SITA-CHANGE, I-EUS-DE-CSC-SDK-HLCFR...      2   \n",
       "\n",
       "   repeat hops  \n",
       "0            0  \n",
       "1            0  \n",
       "2            0  \n",
       "3            0  \n",
       "4            0  \n",
       "\n",
       "[5 rows x 23 columns]"
      ]
     },
     "execution_count": 3,
     "metadata": {},
     "output_type": "execute_result"
    }
   ],
   "source": [
    "df.head()"
   ]
  },
  {
   "cell_type": "markdown",
   "metadata": {},
   "source": [
    "##  Analyzing the data and data wrangling"
   ]
  },
  {
   "cell_type": "code",
   "execution_count": 4,
   "metadata": {},
   "outputs": [
    {
     "data": {
      "text/plain": [
       "(68177, 23)"
      ]
     },
     "execution_count": 4,
     "metadata": {},
     "output_type": "execute_result"
    }
   ],
   "source": [
    "df.shape"
   ]
  },
  {
   "cell_type": "code",
   "execution_count": 5,
   "metadata": {},
   "outputs": [
    {
     "data": {
      "text/html": [
       "<div>\n",
       "<style scoped>\n",
       "    .dataframe tbody tr th:only-of-type {\n",
       "        vertical-align: middle;\n",
       "    }\n",
       "\n",
       "    .dataframe tbody tr th {\n",
       "        vertical-align: top;\n",
       "    }\n",
       "\n",
       "    .dataframe thead th {\n",
       "        text-align: right;\n",
       "    }\n",
       "</style>\n",
       "<table border=\"1\" class=\"dataframe\">\n",
       "  <thead>\n",
       "    <tr style=\"text-align: right;\">\n",
       "      <th></th>\n",
       "      <th>TICKETID</th>\n",
       "      <th>OPEN</th>\n",
       "      <th>ASSIGNDATE</th>\n",
       "      <th>RESOLVE</th>\n",
       "      <th>CLOSE</th>\n",
       "      <th>RESOLVERGROUP</th>\n",
       "      <th>RESOLVER</th>\n",
       "      <th>DESCRIPTION</th>\n",
       "      <th>INTERNALPRIORITY</th>\n",
       "      <th>STATUS</th>\n",
       "      <th>...</th>\n",
       "      <th>ASSETNUM</th>\n",
       "      <th>CINUM</th>\n",
       "      <th>CLASS</th>\n",
       "      <th>DURATION</th>\n",
       "      <th>NORMALIZED_SLA_TIME</th>\n",
       "      <th>SLA</th>\n",
       "      <th>NUMBER_HOPS</th>\n",
       "      <th>INVOLVED_GROUPS</th>\n",
       "      <th>groups</th>\n",
       "      <th>repeat hops</th>\n",
       "    </tr>\n",
       "  </thead>\n",
       "  <tbody>\n",
       "    <tr>\n",
       "      <th>68172</th>\n",
       "      <td>IN62752100</td>\n",
       "      <td>2019-08-31 23:20:19</td>\n",
       "      <td>2019-08-31 23:20:33</td>\n",
       "      <td>2019-09-02 13:53:03</td>\n",
       "      <td>2019-09-02 13:53:19</td>\n",
       "      <td>I-EUS-DE-CSC-SDK-HLCFRONTDESK</td>\n",
       "      <td>ROY-CHARLES.STODOLLIK1@DE.IBM.COM</td>\n",
       "      <td>XC20T078 ERROR !AOQLIK !sev=1!LABEL:XC20T078 A...</td>\n",
       "      <td>1</td>\n",
       "      <td>CLOSED</td>\n",
       "      <td>...</td>\n",
       "      <td>NaN</td>\n",
       "      <td>NaN</td>\n",
       "      <td>INCIDENT</td>\n",
       "      <td>138763.0</td>\n",
       "      <td>10786.0</td>\n",
       "      <td>IN</td>\n",
       "      <td>4</td>\n",
       "      <td>I-EUS-DE-CSC-SDK-HLCFRONTDESK, I-EUS-DE-CSC-SD...</td>\n",
       "      <td>3</td>\n",
       "      <td>1</td>\n",
       "    </tr>\n",
       "    <tr>\n",
       "      <th>68173</th>\n",
       "      <td>IN62752101</td>\n",
       "      <td>2019-08-31 23:42:58</td>\n",
       "      <td>2019-08-31 23:42:58</td>\n",
       "      <td>NaT</td>\n",
       "      <td>NaT</td>\n",
       "      <td>NaN</td>\n",
       "      <td>NaN</td>\n",
       "      <td>hlc#hlcptsmfra011s1#hll101b Backup 2200_001D_A...</td>\n",
       "      <td>2</td>\n",
       "      <td>INPROG</td>\n",
       "      <td>...</td>\n",
       "      <td>NaN</td>\n",
       "      <td>NaN</td>\n",
       "      <td>INCIDENT</td>\n",
       "      <td>NaN</td>\n",
       "      <td>NaN</td>\n",
       "      <td>NaN</td>\n",
       "      <td>1</td>\n",
       "      <td>I-SSO-CZ-STO-BRM-TSMHLC</td>\n",
       "      <td>1</td>\n",
       "      <td>0</td>\n",
       "    </tr>\n",
       "    <tr>\n",
       "      <th>68174</th>\n",
       "      <td>IN62752102</td>\n",
       "      <td>2019-08-31 23:42:58</td>\n",
       "      <td>2019-08-31 23:42:58</td>\n",
       "      <td>NaT</td>\n",
       "      <td>NaT</td>\n",
       "      <td>NaN</td>\n",
       "      <td>NaN</td>\n",
       "      <td>hlc#hlcptsmfra011s1#hll101b Backup 2200_001D_A...</td>\n",
       "      <td>2</td>\n",
       "      <td>INPROG</td>\n",
       "      <td>...</td>\n",
       "      <td>NaN</td>\n",
       "      <td>NaN</td>\n",
       "      <td>INCIDENT</td>\n",
       "      <td>NaN</td>\n",
       "      <td>NaN</td>\n",
       "      <td>NaN</td>\n",
       "      <td>1</td>\n",
       "      <td>I-SSO-CZ-STO-BRM-TSMHLC</td>\n",
       "      <td>1</td>\n",
       "      <td>0</td>\n",
       "    </tr>\n",
       "    <tr>\n",
       "      <th>68175</th>\n",
       "      <td>IN62752103</td>\n",
       "      <td>2019-08-31 23:42:58</td>\n",
       "      <td>2019-08-31 23:42:58</td>\n",
       "      <td>2019-09-03 09:20:05</td>\n",
       "      <td>2019-09-04 10:29:35</td>\n",
       "      <td>I-SSO-CZ-STO-BRM-TSMHLC</td>\n",
       "      <td>ROSTISLAV_VORAC@CZ.IBM.COM</td>\n",
       "      <td>hlc#hlcptsmfra011s1#hll101b Backup 2100_001D_A...</td>\n",
       "      <td>3</td>\n",
       "      <td>CLOSED</td>\n",
       "      <td>...</td>\n",
       "      <td>NaN</td>\n",
       "      <td>NaN</td>\n",
       "      <td>INCIDENT</td>\n",
       "      <td>207426.0</td>\n",
       "      <td>207426.0</td>\n",
       "      <td>OUT</td>\n",
       "      <td>1</td>\n",
       "      <td>I-SSO-CZ-STO-BRM-TSMHLC</td>\n",
       "      <td>1</td>\n",
       "      <td>0</td>\n",
       "    </tr>\n",
       "    <tr>\n",
       "      <th>68176</th>\n",
       "      <td>IN62752104</td>\n",
       "      <td>2019-08-31 23:53:12</td>\n",
       "      <td>2019-08-31 23:53:12</td>\n",
       "      <td>NaT</td>\n",
       "      <td>NaT</td>\n",
       "      <td>NaN</td>\n",
       "      <td>NaN</td>\n",
       "      <td>hlc#hlcptsmfra021s2#hll102b Backup 2200_001D_A...</td>\n",
       "      <td>2</td>\n",
       "      <td>INPROG</td>\n",
       "      <td>...</td>\n",
       "      <td>NaN</td>\n",
       "      <td>NaN</td>\n",
       "      <td>INCIDENT</td>\n",
       "      <td>NaN</td>\n",
       "      <td>NaN</td>\n",
       "      <td>NaN</td>\n",
       "      <td>2</td>\n",
       "      <td>I-SSO-CZ-STO-BRM-TSMHLC, I-SSO-CZ-STO-BRM-TSMSHD</td>\n",
       "      <td>2</td>\n",
       "      <td>0</td>\n",
       "    </tr>\n",
       "  </tbody>\n",
       "</table>\n",
       "<p>5 rows × 23 columns</p>\n",
       "</div>"
      ],
      "text/plain": [
       "         TICKETID                OPEN          ASSIGNDATE             RESOLVE  \\\n",
       "68172  IN62752100 2019-08-31 23:20:19 2019-08-31 23:20:33 2019-09-02 13:53:03   \n",
       "68173  IN62752101 2019-08-31 23:42:58 2019-08-31 23:42:58                 NaT   \n",
       "68174  IN62752102 2019-08-31 23:42:58 2019-08-31 23:42:58                 NaT   \n",
       "68175  IN62752103 2019-08-31 23:42:58 2019-08-31 23:42:58 2019-09-03 09:20:05   \n",
       "68176  IN62752104 2019-08-31 23:53:12 2019-08-31 23:53:12                 NaT   \n",
       "\n",
       "                    CLOSE                  RESOLVERGROUP  \\\n",
       "68172 2019-09-02 13:53:19  I-EUS-DE-CSC-SDK-HLCFRONTDESK   \n",
       "68173                 NaT                            NaN   \n",
       "68174                 NaT                            NaN   \n",
       "68175 2019-09-04 10:29:35        I-SSO-CZ-STO-BRM-TSMHLC   \n",
       "68176                 NaT                            NaN   \n",
       "\n",
       "                                RESOLVER  \\\n",
       "68172  ROY-CHARLES.STODOLLIK1@DE.IBM.COM   \n",
       "68173                                NaN   \n",
       "68174                                NaN   \n",
       "68175         ROSTISLAV_VORAC@CZ.IBM.COM   \n",
       "68176                                NaN   \n",
       "\n",
       "                                             DESCRIPTION  INTERNALPRIORITY  \\\n",
       "68172  XC20T078 ERROR !AOQLIK !sev=1!LABEL:XC20T078 A...                 1   \n",
       "68173  hlc#hlcptsmfra011s1#hll101b Backup 2200_001D_A...                 2   \n",
       "68174  hlc#hlcptsmfra011s1#hll101b Backup 2200_001D_A...                 2   \n",
       "68175  hlc#hlcptsmfra011s1#hll101b Backup 2100_001D_A...                 3   \n",
       "68176  hlc#hlcptsmfra021s2#hll102b Backup 2200_001D_A...                 2   \n",
       "\n",
       "       STATUS  ... ASSETNUM CINUM     CLASS  DURATION NORMALIZED_SLA_TIME  \\\n",
       "68172  CLOSED  ...      NaN   NaN  INCIDENT  138763.0             10786.0   \n",
       "68173  INPROG  ...      NaN   NaN  INCIDENT       NaN                 NaN   \n",
       "68174  INPROG  ...      NaN   NaN  INCIDENT       NaN                 NaN   \n",
       "68175  CLOSED  ...      NaN   NaN  INCIDENT  207426.0            207426.0   \n",
       "68176  INPROG  ...      NaN   NaN  INCIDENT       NaN                 NaN   \n",
       "\n",
       "       SLA  NUMBER_HOPS                                    INVOLVED_GROUPS  \\\n",
       "68172   IN            4  I-EUS-DE-CSC-SDK-HLCFRONTDESK, I-EUS-DE-CSC-SD...   \n",
       "68173  NaN            1                            I-SSO-CZ-STO-BRM-TSMHLC   \n",
       "68174  NaN            1                            I-SSO-CZ-STO-BRM-TSMHLC   \n",
       "68175  OUT            1                            I-SSO-CZ-STO-BRM-TSMHLC   \n",
       "68176  NaN            2   I-SSO-CZ-STO-BRM-TSMHLC, I-SSO-CZ-STO-BRM-TSMSHD   \n",
       "\n",
       "      groups  repeat hops  \n",
       "68172      3            1  \n",
       "68173      1            0  \n",
       "68174      1            0  \n",
       "68175      1            0  \n",
       "68176      2            0  \n",
       "\n",
       "[5 rows x 23 columns]"
      ]
     },
     "execution_count": 5,
     "metadata": {},
     "output_type": "execute_result"
    }
   ],
   "source": [
    "df.tail()"
   ]
  },
  {
   "cell_type": "code",
   "execution_count": 6,
   "metadata": {},
   "outputs": [
    {
     "data": {
      "text/plain": [
       "Index(['TICKETID', 'OPEN', 'ASSIGNDATE', 'RESOLVE', 'CLOSE', 'RESOLVERGROUP',\n",
       "       'RESOLVER', 'DESCRIPTION', 'INTERNALPRIORITY', 'STATUS', 'SOLUTION',\n",
       "       'SERVICES', 'SERVICEGROUP', 'ASSETNUM', 'CINUM', 'CLASS', 'DURATION',\n",
       "       'NORMALIZED_SLA_TIME', 'SLA', 'NUMBER_HOPS', 'INVOLVED_GROUPS',\n",
       "       'groups', 'repeat hops'],\n",
       "      dtype='object')"
      ]
     },
     "execution_count": 6,
     "metadata": {},
     "output_type": "execute_result"
    }
   ],
   "source": [
    "df.columns"
   ]
  },
  {
   "cell_type": "code",
   "execution_count": 7,
   "metadata": {},
   "outputs": [],
   "source": [
    "data=df[['TICKETID','OPEN']]"
   ]
  },
  {
   "cell_type": "code",
   "execution_count": 8,
   "metadata": {},
   "outputs": [
    {
     "data": {
      "text/html": [
       "<div>\n",
       "<style scoped>\n",
       "    .dataframe tbody tr th:only-of-type {\n",
       "        vertical-align: middle;\n",
       "    }\n",
       "\n",
       "    .dataframe tbody tr th {\n",
       "        vertical-align: top;\n",
       "    }\n",
       "\n",
       "    .dataframe thead th {\n",
       "        text-align: right;\n",
       "    }\n",
       "</style>\n",
       "<table border=\"1\" class=\"dataframe\">\n",
       "  <thead>\n",
       "    <tr style=\"text-align: right;\">\n",
       "      <th></th>\n",
       "      <th>TICKETID</th>\n",
       "      <th>OPEN</th>\n",
       "    </tr>\n",
       "  </thead>\n",
       "  <tbody>\n",
       "    <tr>\n",
       "      <th>0</th>\n",
       "      <td>SR61876354</td>\n",
       "      <td>2019-05-01 00:10:57</td>\n",
       "    </tr>\n",
       "    <tr>\n",
       "      <th>1</th>\n",
       "      <td>IN62701632</td>\n",
       "      <td>2019-05-01 00:13:47</td>\n",
       "    </tr>\n",
       "    <tr>\n",
       "      <th>2</th>\n",
       "      <td>SR61876355</td>\n",
       "      <td>2019-05-01 00:15:57</td>\n",
       "    </tr>\n",
       "    <tr>\n",
       "      <th>3</th>\n",
       "      <td>IN62701633</td>\n",
       "      <td>2019-05-01 00:16:36</td>\n",
       "    </tr>\n",
       "    <tr>\n",
       "      <th>4</th>\n",
       "      <td>IN62701634</td>\n",
       "      <td>2019-05-01 00:17:45</td>\n",
       "    </tr>\n",
       "  </tbody>\n",
       "</table>\n",
       "</div>"
      ],
      "text/plain": [
       "     TICKETID                OPEN\n",
       "0  SR61876354 2019-05-01 00:10:57\n",
       "1  IN62701632 2019-05-01 00:13:47\n",
       "2  SR61876355 2019-05-01 00:15:57\n",
       "3  IN62701633 2019-05-01 00:16:36\n",
       "4  IN62701634 2019-05-01 00:17:45"
      ]
     },
     "execution_count": 8,
     "metadata": {},
     "output_type": "execute_result"
    }
   ],
   "source": [
    "data.head()"
   ]
  },
  {
   "cell_type": "code",
   "execution_count": 9,
   "metadata": {},
   "outputs": [
    {
     "data": {
      "text/plain": [
       "TICKETID    0\n",
       "OPEN        0\n",
       "dtype: int64"
      ]
     },
     "execution_count": 9,
     "metadata": {},
     "output_type": "execute_result"
    }
   ],
   "source": [
    "data.isnull().sum()"
   ]
  },
  {
   "cell_type": "code",
   "execution_count": 10,
   "metadata": {},
   "outputs": [
    {
     "data": {
      "text/plain": [
       "pandas.core.frame.DataFrame"
      ]
     },
     "execution_count": 10,
     "metadata": {},
     "output_type": "execute_result"
    }
   ],
   "source": [
    "type(data)"
   ]
  },
  {
   "cell_type": "code",
   "execution_count": 11,
   "metadata": {},
   "outputs": [
    {
     "name": "stderr",
     "output_type": "stream",
     "text": [
      "c:\\users\\maheshalleswaram\\documents\\python37\\lib\\site-packages\\ipykernel_launcher.py:1: SettingWithCopyWarning: \n",
      "A value is trying to be set on a copy of a slice from a DataFrame.\n",
      "Try using .loc[row_indexer,col_indexer] = value instead\n",
      "\n",
      "See the caveats in the documentation: http://pandas.pydata.org/pandas-docs/stable/indexing.html#indexing-view-versus-copy\n",
      "  \"\"\"Entry point for launching an IPython kernel.\n"
     ]
    }
   ],
   "source": [
    "data['OPEN']=data['OPEN'].astype(str)"
   ]
  },
  {
   "cell_type": "code",
   "execution_count": 12,
   "metadata": {},
   "outputs": [],
   "source": [
    "data_SR=data[data['TICKETID'].str.contains('SR')]"
   ]
  },
  {
   "cell_type": "code",
   "execution_count": 13,
   "metadata": {},
   "outputs": [],
   "source": [
    "data_IN=data[data['TICKETID'].str.contains('IN')]"
   ]
  },
  {
   "cell_type": "code",
   "execution_count": 14,
   "metadata": {},
   "outputs": [
    {
     "data": {
      "text/plain": [
       "(21588, 2)"
      ]
     },
     "execution_count": 14,
     "metadata": {},
     "output_type": "execute_result"
    }
   ],
   "source": [
    "data_SR.shape"
   ]
  },
  {
   "cell_type": "code",
   "execution_count": 15,
   "metadata": {},
   "outputs": [
    {
     "data": {
      "text/plain": [
       "(46541, 2)"
      ]
     },
     "execution_count": 15,
     "metadata": {},
     "output_type": "execute_result"
    }
   ],
   "source": [
    "data_IN.shape"
   ]
  },
  {
   "cell_type": "code",
   "execution_count": 16,
   "metadata": {},
   "outputs": [
    {
     "data": {
      "text/html": [
       "<div>\n",
       "<style scoped>\n",
       "    .dataframe tbody tr th:only-of-type {\n",
       "        vertical-align: middle;\n",
       "    }\n",
       "\n",
       "    .dataframe tbody tr th {\n",
       "        vertical-align: top;\n",
       "    }\n",
       "\n",
       "    .dataframe thead th {\n",
       "        text-align: right;\n",
       "    }\n",
       "</style>\n",
       "<table border=\"1\" class=\"dataframe\">\n",
       "  <thead>\n",
       "    <tr style=\"text-align: right;\">\n",
       "      <th></th>\n",
       "      <th>TICKETID</th>\n",
       "      <th>OPEN</th>\n",
       "    </tr>\n",
       "  </thead>\n",
       "  <tbody>\n",
       "    <tr>\n",
       "      <th>0</th>\n",
       "      <td>SR61876354</td>\n",
       "      <td>2019-05-01 00:10:57</td>\n",
       "    </tr>\n",
       "    <tr>\n",
       "      <th>2</th>\n",
       "      <td>SR61876355</td>\n",
       "      <td>2019-05-01 00:15:57</td>\n",
       "    </tr>\n",
       "    <tr>\n",
       "      <th>6</th>\n",
       "      <td>SR61876356</td>\n",
       "      <td>2019-05-01 00:20:33</td>\n",
       "    </tr>\n",
       "    <tr>\n",
       "      <th>9</th>\n",
       "      <td>SR61876357</td>\n",
       "      <td>2019-05-01 00:24:44</td>\n",
       "    </tr>\n",
       "    <tr>\n",
       "      <th>11</th>\n",
       "      <td>SR61876358</td>\n",
       "      <td>2019-05-01 00:36:46</td>\n",
       "    </tr>\n",
       "  </tbody>\n",
       "</table>\n",
       "</div>"
      ],
      "text/plain": [
       "      TICKETID                 OPEN\n",
       "0   SR61876354  2019-05-01 00:10:57\n",
       "2   SR61876355  2019-05-01 00:15:57\n",
       "6   SR61876356  2019-05-01 00:20:33\n",
       "9   SR61876357  2019-05-01 00:24:44\n",
       "11  SR61876358  2019-05-01 00:36:46"
      ]
     },
     "execution_count": 16,
     "metadata": {},
     "output_type": "execute_result"
    }
   ],
   "source": [
    "data_SR.head()"
   ]
  },
  {
   "cell_type": "code",
   "execution_count": 17,
   "metadata": {},
   "outputs": [],
   "source": [
    "df_SR=data_SR['OPEN']"
   ]
  },
  {
   "cell_type": "code",
   "execution_count": 18,
   "metadata": {},
   "outputs": [
    {
     "data": {
      "text/html": [
       "<div>\n",
       "<style scoped>\n",
       "    .dataframe tbody tr th:only-of-type {\n",
       "        vertical-align: middle;\n",
       "    }\n",
       "\n",
       "    .dataframe tbody tr th {\n",
       "        vertical-align: top;\n",
       "    }\n",
       "\n",
       "    .dataframe thead th {\n",
       "        text-align: right;\n",
       "    }\n",
       "</style>\n",
       "<table border=\"1\" class=\"dataframe\">\n",
       "  <thead>\n",
       "    <tr style=\"text-align: right;\">\n",
       "      <th></th>\n",
       "      <th>TICKETID</th>\n",
       "      <th>OPEN</th>\n",
       "    </tr>\n",
       "  </thead>\n",
       "  <tbody>\n",
       "    <tr>\n",
       "      <th>1</th>\n",
       "      <td>IN62701632</td>\n",
       "      <td>2019-05-01 00:13:47</td>\n",
       "    </tr>\n",
       "    <tr>\n",
       "      <th>3</th>\n",
       "      <td>IN62701633</td>\n",
       "      <td>2019-05-01 00:16:36</td>\n",
       "    </tr>\n",
       "    <tr>\n",
       "      <th>4</th>\n",
       "      <td>IN62701634</td>\n",
       "      <td>2019-05-01 00:17:45</td>\n",
       "    </tr>\n",
       "    <tr>\n",
       "      <th>5</th>\n",
       "      <td>IN62701635</td>\n",
       "      <td>2019-05-01 00:18:37</td>\n",
       "    </tr>\n",
       "    <tr>\n",
       "      <th>7</th>\n",
       "      <td>IN62701636</td>\n",
       "      <td>2019-05-01 00:22:22</td>\n",
       "    </tr>\n",
       "  </tbody>\n",
       "</table>\n",
       "</div>"
      ],
      "text/plain": [
       "     TICKETID                 OPEN\n",
       "1  IN62701632  2019-05-01 00:13:47\n",
       "3  IN62701633  2019-05-01 00:16:36\n",
       "4  IN62701634  2019-05-01 00:17:45\n",
       "5  IN62701635  2019-05-01 00:18:37\n",
       "7  IN62701636  2019-05-01 00:22:22"
      ]
     },
     "execution_count": 18,
     "metadata": {},
     "output_type": "execute_result"
    }
   ],
   "source": [
    "data_IN.head()"
   ]
  },
  {
   "cell_type": "code",
   "execution_count": 19,
   "metadata": {},
   "outputs": [
    {
     "data": {
      "text/html": [
       "<div>\n",
       "<style scoped>\n",
       "    .dataframe tbody tr th:only-of-type {\n",
       "        vertical-align: middle;\n",
       "    }\n",
       "\n",
       "    .dataframe tbody tr th {\n",
       "        vertical-align: top;\n",
       "    }\n",
       "\n",
       "    .dataframe thead th {\n",
       "        text-align: right;\n",
       "    }\n",
       "</style>\n",
       "<table border=\"1\" class=\"dataframe\">\n",
       "  <thead>\n",
       "    <tr style=\"text-align: right;\">\n",
       "      <th></th>\n",
       "      <th>TICKETID</th>\n",
       "      <th>OPEN</th>\n",
       "    </tr>\n",
       "  </thead>\n",
       "  <tbody>\n",
       "    <tr>\n",
       "      <th>68172</th>\n",
       "      <td>IN62752100</td>\n",
       "      <td>2019-08-31 23:20:19</td>\n",
       "    </tr>\n",
       "    <tr>\n",
       "      <th>68173</th>\n",
       "      <td>IN62752101</td>\n",
       "      <td>2019-08-31 23:42:58</td>\n",
       "    </tr>\n",
       "    <tr>\n",
       "      <th>68174</th>\n",
       "      <td>IN62752102</td>\n",
       "      <td>2019-08-31 23:42:58</td>\n",
       "    </tr>\n",
       "    <tr>\n",
       "      <th>68175</th>\n",
       "      <td>IN62752103</td>\n",
       "      <td>2019-08-31 23:42:58</td>\n",
       "    </tr>\n",
       "    <tr>\n",
       "      <th>68176</th>\n",
       "      <td>IN62752104</td>\n",
       "      <td>2019-08-31 23:53:12</td>\n",
       "    </tr>\n",
       "  </tbody>\n",
       "</table>\n",
       "</div>"
      ],
      "text/plain": [
       "         TICKETID                 OPEN\n",
       "68172  IN62752100  2019-08-31 23:20:19\n",
       "68173  IN62752101  2019-08-31 23:42:58\n",
       "68174  IN62752102  2019-08-31 23:42:58\n",
       "68175  IN62752103  2019-08-31 23:42:58\n",
       "68176  IN62752104  2019-08-31 23:53:12"
      ]
     },
     "execution_count": 19,
     "metadata": {},
     "output_type": "execute_result"
    }
   ],
   "source": [
    "data_IN.tail()"
   ]
  },
  {
   "cell_type": "code",
   "execution_count": 20,
   "metadata": {},
   "outputs": [],
   "source": [
    "df_IN=data_IN['OPEN']"
   ]
  },
  {
   "cell_type": "code",
   "execution_count": 21,
   "metadata": {},
   "outputs": [],
   "source": [
    "df_IN=pd.DataFrame(df_IN)"
   ]
  },
  {
   "cell_type": "code",
   "execution_count": 22,
   "metadata": {},
   "outputs": [
    {
     "data": {
      "text/plain": [
       "(46541, 1)"
      ]
     },
     "execution_count": 22,
     "metadata": {},
     "output_type": "execute_result"
    }
   ],
   "source": [
    "df_IN.shape"
   ]
  },
  {
   "cell_type": "code",
   "execution_count": 23,
   "metadata": {},
   "outputs": [],
   "source": [
    "df_IN['Year']=df_IN.OPEN.str[0:4]"
   ]
  },
  {
   "cell_type": "code",
   "execution_count": 24,
   "metadata": {},
   "outputs": [
    {
     "data": {
      "text/plain": [
       "1    05\n",
       "3    05\n",
       "4    05\n",
       "5    05\n",
       "7    05\n",
       "Name: Month, dtype: object"
      ]
     },
     "execution_count": 24,
     "metadata": {},
     "output_type": "execute_result"
    }
   ],
   "source": [
    "df_IN['Month']=df_IN.OPEN.str[5:7]\n",
    "df_IN['Month'].head()"
   ]
  },
  {
   "cell_type": "code",
   "execution_count": 25,
   "metadata": {},
   "outputs": [],
   "source": [
    "df_IN['Day']=df_IN.OPEN.str[8:10]"
   ]
  },
  {
   "cell_type": "code",
   "execution_count": 26,
   "metadata": {},
   "outputs": [],
   "source": [
    "df_IN['Hours']=df_IN.OPEN.str[11:13]"
   ]
  },
  {
   "cell_type": "code",
   "execution_count": 27,
   "metadata": {},
   "outputs": [
    {
     "data": {
      "text/html": [
       "<div>\n",
       "<style scoped>\n",
       "    .dataframe tbody tr th:only-of-type {\n",
       "        vertical-align: middle;\n",
       "    }\n",
       "\n",
       "    .dataframe tbody tr th {\n",
       "        vertical-align: top;\n",
       "    }\n",
       "\n",
       "    .dataframe thead th {\n",
       "        text-align: right;\n",
       "    }\n",
       "</style>\n",
       "<table border=\"1\" class=\"dataframe\">\n",
       "  <thead>\n",
       "    <tr style=\"text-align: right;\">\n",
       "      <th></th>\n",
       "      <th>OPEN</th>\n",
       "      <th>Year</th>\n",
       "      <th>Month</th>\n",
       "      <th>Day</th>\n",
       "      <th>Hours</th>\n",
       "    </tr>\n",
       "  </thead>\n",
       "  <tbody>\n",
       "    <tr>\n",
       "      <th>1</th>\n",
       "      <td>2019-05-01 00:13:47</td>\n",
       "      <td>2019</td>\n",
       "      <td>05</td>\n",
       "      <td>01</td>\n",
       "      <td>00</td>\n",
       "    </tr>\n",
       "    <tr>\n",
       "      <th>3</th>\n",
       "      <td>2019-05-01 00:16:36</td>\n",
       "      <td>2019</td>\n",
       "      <td>05</td>\n",
       "      <td>01</td>\n",
       "      <td>00</td>\n",
       "    </tr>\n",
       "    <tr>\n",
       "      <th>4</th>\n",
       "      <td>2019-05-01 00:17:45</td>\n",
       "      <td>2019</td>\n",
       "      <td>05</td>\n",
       "      <td>01</td>\n",
       "      <td>00</td>\n",
       "    </tr>\n",
       "    <tr>\n",
       "      <th>5</th>\n",
       "      <td>2019-05-01 00:18:37</td>\n",
       "      <td>2019</td>\n",
       "      <td>05</td>\n",
       "      <td>01</td>\n",
       "      <td>00</td>\n",
       "    </tr>\n",
       "    <tr>\n",
       "      <th>7</th>\n",
       "      <td>2019-05-01 00:22:22</td>\n",
       "      <td>2019</td>\n",
       "      <td>05</td>\n",
       "      <td>01</td>\n",
       "      <td>00</td>\n",
       "    </tr>\n",
       "  </tbody>\n",
       "</table>\n",
       "</div>"
      ],
      "text/plain": [
       "                  OPEN  Year Month Day Hours\n",
       "1  2019-05-01 00:13:47  2019    05  01    00\n",
       "3  2019-05-01 00:16:36  2019    05  01    00\n",
       "4  2019-05-01 00:17:45  2019    05  01    00\n",
       "5  2019-05-01 00:18:37  2019    05  01    00\n",
       "7  2019-05-01 00:22:22  2019    05  01    00"
      ]
     },
     "execution_count": 27,
     "metadata": {},
     "output_type": "execute_result"
    }
   ],
   "source": [
    "df_IN.head()"
   ]
  },
  {
   "cell_type": "code",
   "execution_count": 28,
   "metadata": {},
   "outputs": [],
   "source": [
    "dframe_IN=df_IN[['Year','Month','Day','Hours']]"
   ]
  },
  {
   "cell_type": "code",
   "execution_count": 29,
   "metadata": {},
   "outputs": [],
   "source": [
    "dframe_IN=dframe_IN.reset_index(drop=True)"
   ]
  },
  {
   "cell_type": "code",
   "execution_count": 30,
   "metadata": {},
   "outputs": [
    {
     "data": {
      "text/plain": [
       "array(['00', '01', '02', '03', '04', '05', '06', '07', '08', '09', '10',\n",
       "       '11', '12', '13', '14', '15', '16', '17', '18', '19', '20', '21',\n",
       "       '22', '23'], dtype=object)"
      ]
     },
     "execution_count": 30,
     "metadata": {},
     "output_type": "execute_result"
    }
   ],
   "source": [
    "df_IN['Hours'].unique()"
   ]
  },
  {
   "cell_type": "code",
   "execution_count": 31,
   "metadata": {},
   "outputs": [
    {
     "data": {
      "text/plain": [
       "(46541, 4)"
      ]
     },
     "execution_count": 31,
     "metadata": {},
     "output_type": "execute_result"
    }
   ],
   "source": [
    "dframe_IN.shape"
   ]
  },
  {
   "cell_type": "code",
   "execution_count": 32,
   "metadata": {},
   "outputs": [
    {
     "data": {
      "text/html": [
       "<div>\n",
       "<style scoped>\n",
       "    .dataframe tbody tr th:only-of-type {\n",
       "        vertical-align: middle;\n",
       "    }\n",
       "\n",
       "    .dataframe tbody tr th {\n",
       "        vertical-align: top;\n",
       "    }\n",
       "\n",
       "    .dataframe thead th {\n",
       "        text-align: right;\n",
       "    }\n",
       "</style>\n",
       "<table border=\"1\" class=\"dataframe\">\n",
       "  <thead>\n",
       "    <tr style=\"text-align: right;\">\n",
       "      <th></th>\n",
       "      <th>Year</th>\n",
       "      <th>Month</th>\n",
       "      <th>Day</th>\n",
       "      <th>Hours</th>\n",
       "    </tr>\n",
       "  </thead>\n",
       "  <tbody>\n",
       "    <tr>\n",
       "      <th>46536</th>\n",
       "      <td>2019</td>\n",
       "      <td>08</td>\n",
       "      <td>31</td>\n",
       "      <td>23</td>\n",
       "    </tr>\n",
       "    <tr>\n",
       "      <th>46537</th>\n",
       "      <td>2019</td>\n",
       "      <td>08</td>\n",
       "      <td>31</td>\n",
       "      <td>23</td>\n",
       "    </tr>\n",
       "    <tr>\n",
       "      <th>46538</th>\n",
       "      <td>2019</td>\n",
       "      <td>08</td>\n",
       "      <td>31</td>\n",
       "      <td>23</td>\n",
       "    </tr>\n",
       "    <tr>\n",
       "      <th>46539</th>\n",
       "      <td>2019</td>\n",
       "      <td>08</td>\n",
       "      <td>31</td>\n",
       "      <td>23</td>\n",
       "    </tr>\n",
       "    <tr>\n",
       "      <th>46540</th>\n",
       "      <td>2019</td>\n",
       "      <td>08</td>\n",
       "      <td>31</td>\n",
       "      <td>23</td>\n",
       "    </tr>\n",
       "  </tbody>\n",
       "</table>\n",
       "</div>"
      ],
      "text/plain": [
       "       Year Month Day Hours\n",
       "46536  2019    08  31    23\n",
       "46537  2019    08  31    23\n",
       "46538  2019    08  31    23\n",
       "46539  2019    08  31    23\n",
       "46540  2019    08  31    23"
      ]
     },
     "execution_count": 32,
     "metadata": {},
     "output_type": "execute_result"
    }
   ],
   "source": [
    "dframe_IN.tail()"
   ]
  },
  {
   "cell_type": "code",
   "execution_count": 33,
   "metadata": {},
   "outputs": [
    {
     "data": {
      "text/plain": [
       "array(['2019'], dtype=object)"
      ]
     },
     "execution_count": 33,
     "metadata": {},
     "output_type": "execute_result"
    }
   ],
   "source": [
    "dframe_IN['Year'].unique()"
   ]
  },
  {
   "cell_type": "code",
   "execution_count": 34,
   "metadata": {},
   "outputs": [
    {
     "data": {
      "text/plain": [
       "array(['05', '06', '07', '08'], dtype=object)"
      ]
     },
     "execution_count": 34,
     "metadata": {},
     "output_type": "execute_result"
    }
   ],
   "source": [
    "dframe_IN['Month'].unique()"
   ]
  },
  {
   "cell_type": "code",
   "execution_count": 35,
   "metadata": {},
   "outputs": [
    {
     "data": {
      "text/plain": [
       "array(['01', '02', '03', '04', '05', '06', '07', '08', '09', '10', '11',\n",
       "       '12', '13', '14', '15', '16', '17', '18', '19', '20', '21', '22',\n",
       "       '23', '24', '25', '26', '27', '28', '29', '30', '31'], dtype=object)"
      ]
     },
     "execution_count": 35,
     "metadata": {},
     "output_type": "execute_result"
    }
   ],
   "source": [
    "dframe_IN['Day'].unique()"
   ]
  },
  {
   "cell_type": "markdown",
   "metadata": {},
   "source": [
    "# Plotting Incident Report"
   ]
  },
  {
   "cell_type": "code",
   "execution_count": 36,
   "metadata": {},
   "outputs": [],
   "source": [
    "import matplotlib.pyplot as plt\n",
    "%matplotlib inline"
   ]
  },
  {
   "cell_type": "code",
   "execution_count": 37,
   "metadata": {},
   "outputs": [
    {
     "data": {
      "image/png": "[encoded data removed]",
      "text/plain": [
       "<Figure size 432x288 with 1 Axes>"
      ]
     },
     "metadata": {
      "needs_background": "light"
     },
     "output_type": "display_data"
    }
   ],
   "source": [
    "pd.value_counts(dframe_IN['Month']).plot.bar()\n",
    "plt.title('Monthlywise Incident Data',fontweight=\"bold\")\n",
    "plt.xlabel('Monthlywise')\n",
    "plt.ylabel('No of incidents')\n",
    "plt.show()"
   ]
  },
  {
   "cell_type": "code",
   "execution_count": 38,
   "metadata": {},
   "outputs": [],
   "source": [
    "labels=dframe_IN['Month'].unique()"
   ]
  },
  {
   "cell_type": "code",
   "execution_count": 39,
   "metadata": {},
   "outputs": [],
   "source": [
    "mcount=pd.value_counts(dframe_IN['Month']).sort_index()"
   ]
  },
  {
   "cell_type": "code",
   "execution_count": 40,
   "metadata": {},
   "outputs": [],
   "source": [
    "mcount=pd.DataFrame(mcount)"
   ]
  },
  {
   "cell_type": "code",
   "execution_count": 41,
   "metadata": {},
   "outputs": [
    {
     "data": {
      "text/html": [
       "<div>\n",
       "<style scoped>\n",
       "    .dataframe tbody tr th:only-of-type {\n",
       "        vertical-align: middle;\n",
       "    }\n",
       "\n",
       "    .dataframe tbody tr th {\n",
       "        vertical-align: top;\n",
       "    }\n",
       "\n",
       "    .dataframe thead th {\n",
       "        text-align: right;\n",
       "    }\n",
       "</style>\n",
       "<table border=\"1\" class=\"dataframe\">\n",
       "  <thead>\n",
       "    <tr style=\"text-align: right;\">\n",
       "      <th></th>\n",
       "      <th>Month</th>\n",
       "    </tr>\n",
       "  </thead>\n",
       "  <tbody>\n",
       "    <tr>\n",
       "      <th>05</th>\n",
       "      <td>9174</td>\n",
       "    </tr>\n",
       "    <tr>\n",
       "      <th>06</th>\n",
       "      <td>21041</td>\n",
       "    </tr>\n",
       "    <tr>\n",
       "      <th>07</th>\n",
       "      <td>7686</td>\n",
       "    </tr>\n",
       "    <tr>\n",
       "      <th>08</th>\n",
       "      <td>8640</td>\n",
       "    </tr>\n",
       "  </tbody>\n",
       "</table>\n",
       "</div>"
      ],
      "text/plain": [
       "    Month\n",
       "05   9174\n",
       "06  21041\n",
       "07   7686\n",
       "08   8640"
      ]
     },
     "execution_count": 41,
     "metadata": {},
     "output_type": "execute_result"
    }
   ],
   "source": [
    "mcount"
   ]
  },
  {
   "cell_type": "code",
   "execution_count": 42,
   "metadata": {},
   "outputs": [
    {
     "data": {
      "image/png": "[encoded data removed]",
      "text/plain": [
       "<Figure size 432x504 with 1 Axes>"
      ]
     },
     "metadata": {
      "needs_background": "light"
     },
     "output_type": "display_data"
    }
   ],
   "source": [
    "x = np.arange(len(labels))  \n",
    "width=0.35\n",
    "fig, ax = plt.subplots(figsize=(6,7))\n",
    "cal = plt.bar(x-width/2, mcount['Month'],width)\n",
    "\n",
    "ax.set_ylabel('No. Of Incidents')\n",
    "ax.set_title('Monthly Incident Count',fontweight=\"bold\")\n",
    "ax.set_xlabel('Months')\n",
    "ax.set_xticks(x)\n",
    "ax.set_xticklabels(labels)\n",
    "\n",
    "def autolabel(rects):\n",
    "    \"\"\"Attach a text label above each bar in *rects*, displaying its height.\"\"\"\n",
    "    for rect in rects:\n",
    "        height = rect.get_height()\n",
    "        ax.annotate('{}'.format(height),\n",
    "                    xy=(rect.get_x() + rect.get_width() / 2, height),\n",
    "                    xytext=(0, 3),  # 3 points vertical offset\n",
    "                    textcoords=\"offset points\",\n",
    "                    ha='center', va='bottom')\n",
    "autolabel(cal)\n",
    "\n",
    "plt.show()"
   ]
  },
  {
   "cell_type": "markdown",
   "metadata": {},
   "source": [
    "# Daily Incident Count"
   ]
  },
  {
   "cell_type": "code",
   "execution_count": 43,
   "metadata": {},
   "outputs": [
    {
     "data": {
      "text/plain": [
       "array(['01', '02', '03', '04', '05', '06', '07', '08', '09', '10', '11',\n",
       "       '12', '13', '14', '15', '16', '17', '18', '19', '20', '21', '22',\n",
       "       '23', '24', '25', '26', '27', '28', '29', '30', '31'], dtype=object)"
      ]
     },
     "execution_count": 43,
     "metadata": {},
     "output_type": "execute_result"
    }
   ],
   "source": [
    "labels=dframe_IN['Day'].unique()\n",
    "labels"
   ]
  },
  {
   "cell_type": "code",
   "execution_count": 44,
   "metadata": {},
   "outputs": [],
   "source": [
    "icount=pd.value_counts(dframe_IN['Day']).sort_index()"
   ]
  },
  {
   "cell_type": "code",
   "execution_count": 45,
   "metadata": {},
   "outputs": [],
   "source": [
    "icount=pd.DataFrame(icount)"
   ]
  },
  {
   "cell_type": "code",
   "execution_count": 46,
   "metadata": {},
   "outputs": [
    {
     "data": {
      "image/png": "[encoded data removed]",
      "text/plain": [
       "<Figure size 1152x504 with 1 Axes>"
      ]
     },
     "metadata": {
      "needs_background": "light"
     },
     "output_type": "display_data"
    }
   ],
   "source": [
    "x=np.arange(len(labels))\n",
    "\n",
    "fig,ax=plt.subplots(figsize=(16,7))\n",
    "dcal=plt.bar(x-width/2,icount['Day'],width=0.40)\n",
    "\n",
    "ax.set_xlabel('Date of the day')\n",
    "ax.set_ylabel('No.of incidents')\n",
    "ax.set_title('Daily Incident Count Report',fontweight='bold')\n",
    "ax.set_xticks(x)\n",
    "ax.set_xticklabels(labels)\n",
    "\n",
    "autolabel(dcal)\n",
    "plt.show()"
   ]
  },
  {
   "cell_type": "markdown",
   "metadata": {},
   "source": [
    "# Hourly Incident Count"
   ]
  },
  {
   "cell_type": "code",
   "execution_count": 47,
   "metadata": {},
   "outputs": [],
   "source": [
    "labels=dframe_IN['Hours'].unique()"
   ]
  },
  {
   "cell_type": "code",
   "execution_count": 48,
   "metadata": {},
   "outputs": [
    {
     "data": {
      "text/plain": [
       "array(['00', '01', '02', '03', '04', '05', '06', '07', '08', '09', '10',\n",
       "       '11', '12', '13', '14', '15', '16', '17', '18', '19', '20', '21',\n",
       "       '22', '23'], dtype=object)"
      ]
     },
     "execution_count": 48,
     "metadata": {},
     "output_type": "execute_result"
    }
   ],
   "source": [
    "labels"
   ]
  },
  {
   "cell_type": "code",
   "execution_count": 49,
   "metadata": {},
   "outputs": [],
   "source": [
    "hcount=pd.value_counts(dframe_IN['Hours']).sort_index()"
   ]
  },
  {
   "cell_type": "code",
   "execution_count": 50,
   "metadata": {},
   "outputs": [],
   "source": [
    "hcount=pd.DataFrame(hcount)"
   ]
  },
  {
   "cell_type": "code",
   "execution_count": 51,
   "metadata": {},
   "outputs": [
    {
     "data": {
      "text/plain": [
       "Hours    46541\n",
       "dtype: int64"
      ]
     },
     "execution_count": 51,
     "metadata": {},
     "output_type": "execute_result"
    }
   ],
   "source": [
    "tot=hcount.sum()\n",
    "tot"
   ]
  },
  {
   "cell_type": "code",
   "execution_count": 52,
   "metadata": {},
   "outputs": [
    {
     "data": {
      "image/png": "[encoded data removed]",
      "text/plain": [
       "<Figure size 1296x432 with 1 Axes>"
      ]
     },
     "metadata": {
      "needs_background": "light"
     },
     "output_type": "display_data"
    }
   ],
   "source": [
    "x=np.arange(len(labels))\n",
    "\n",
    "fig, ax=plt.subplots(figsize=(18,6))\n",
    "hcal=plt.bar(x-width/2,hcount['Hours'],width=0.40)\n",
    "\n",
    "ax.set_xlabel('Hourly')\n",
    "ax.set_ylabel('No. Of Incidents')\n",
    "ax.set_title('Hourly Incident Count',fontweight='bold')\n",
    "ax.set_xticks(x)\n",
    "ax.set_xticklabels(labels)\n",
    "\n",
    "autolabel(hcal)\n",
    "\n",
    "plt.show()"
   ]
  },
  {
   "cell_type": "markdown",
   "metadata": {},
   "source": [
    "# Calculation of Service Requests (SR) "
   ]
  },
  {
   "cell_type": "code",
   "execution_count": 53,
   "metadata": {},
   "outputs": [
    {
     "data": {
      "text/html": [
       "<div>\n",
       "<style scoped>\n",
       "    .dataframe tbody tr th:only-of-type {\n",
       "        vertical-align: middle;\n",
       "    }\n",
       "\n",
       "    .dataframe tbody tr th {\n",
       "        vertical-align: top;\n",
       "    }\n",
       "\n",
       "    .dataframe thead th {\n",
       "        text-align: right;\n",
       "    }\n",
       "</style>\n",
       "<table border=\"1\" class=\"dataframe\">\n",
       "  <thead>\n",
       "    <tr style=\"text-align: right;\">\n",
       "      <th></th>\n",
       "      <th>TICKETID</th>\n",
       "      <th>OPEN</th>\n",
       "    </tr>\n",
       "  </thead>\n",
       "  <tbody>\n",
       "    <tr>\n",
       "      <th>0</th>\n",
       "      <td>SR61876354</td>\n",
       "      <td>2019-05-01 00:10:57</td>\n",
       "    </tr>\n",
       "    <tr>\n",
       "      <th>2</th>\n",
       "      <td>SR61876355</td>\n",
       "      <td>2019-05-01 00:15:57</td>\n",
       "    </tr>\n",
       "    <tr>\n",
       "      <th>6</th>\n",
       "      <td>SR61876356</td>\n",
       "      <td>2019-05-01 00:20:33</td>\n",
       "    </tr>\n",
       "    <tr>\n",
       "      <th>9</th>\n",
       "      <td>SR61876357</td>\n",
       "      <td>2019-05-01 00:24:44</td>\n",
       "    </tr>\n",
       "    <tr>\n",
       "      <th>11</th>\n",
       "      <td>SR61876358</td>\n",
       "      <td>2019-05-01 00:36:46</td>\n",
       "    </tr>\n",
       "  </tbody>\n",
       "</table>\n",
       "</div>"
      ],
      "text/plain": [
       "      TICKETID                 OPEN\n",
       "0   SR61876354  2019-05-01 00:10:57\n",
       "2   SR61876355  2019-05-01 00:15:57\n",
       "6   SR61876356  2019-05-01 00:20:33\n",
       "9   SR61876357  2019-05-01 00:24:44\n",
       "11  SR61876358  2019-05-01 00:36:46"
      ]
     },
     "execution_count": 53,
     "metadata": {},
     "output_type": "execute_result"
    }
   ],
   "source": [
    "data_SR.head()"
   ]
  },
  {
   "cell_type": "code",
   "execution_count": 54,
   "metadata": {},
   "outputs": [
    {
     "data": {
      "text/plain": [
       "(21588, 2)"
      ]
     },
     "execution_count": 54,
     "metadata": {},
     "output_type": "execute_result"
    }
   ],
   "source": [
    "data_SR.shape"
   ]
  },
  {
   "cell_type": "code",
   "execution_count": 55,
   "metadata": {},
   "outputs": [
    {
     "data": {
      "text/html": [
       "<div>\n",
       "<style scoped>\n",
       "    .dataframe tbody tr th:only-of-type {\n",
       "        vertical-align: middle;\n",
       "    }\n",
       "\n",
       "    .dataframe tbody tr th {\n",
       "        vertical-align: top;\n",
       "    }\n",
       "\n",
       "    .dataframe thead th {\n",
       "        text-align: right;\n",
       "    }\n",
       "</style>\n",
       "<table border=\"1\" class=\"dataframe\">\n",
       "  <thead>\n",
       "    <tr style=\"text-align: right;\">\n",
       "      <th></th>\n",
       "      <th>TICKETID</th>\n",
       "      <th>OPEN</th>\n",
       "    </tr>\n",
       "  </thead>\n",
       "  <tbody>\n",
       "    <tr>\n",
       "      <th>68172</th>\n",
       "      <td>IN62752100</td>\n",
       "      <td>2019-08-31 23:20:19</td>\n",
       "    </tr>\n",
       "    <tr>\n",
       "      <th>68173</th>\n",
       "      <td>IN62752101</td>\n",
       "      <td>2019-08-31 23:42:58</td>\n",
       "    </tr>\n",
       "    <tr>\n",
       "      <th>68174</th>\n",
       "      <td>IN62752102</td>\n",
       "      <td>2019-08-31 23:42:58</td>\n",
       "    </tr>\n",
       "    <tr>\n",
       "      <th>68175</th>\n",
       "      <td>IN62752103</td>\n",
       "      <td>2019-08-31 23:42:58</td>\n",
       "    </tr>\n",
       "    <tr>\n",
       "      <th>68176</th>\n",
       "      <td>IN62752104</td>\n",
       "      <td>2019-08-31 23:53:12</td>\n",
       "    </tr>\n",
       "  </tbody>\n",
       "</table>\n",
       "</div>"
      ],
      "text/plain": [
       "         TICKETID                 OPEN\n",
       "68172  IN62752100  2019-08-31 23:20:19\n",
       "68173  IN62752101  2019-08-31 23:42:58\n",
       "68174  IN62752102  2019-08-31 23:42:58\n",
       "68175  IN62752103  2019-08-31 23:42:58\n",
       "68176  IN62752104  2019-08-31 23:53:12"
      ]
     },
     "execution_count": 55,
     "metadata": {},
     "output_type": "execute_result"
    }
   ],
   "source": [
    "data.tail()"
   ]
  },
  {
   "cell_type": "code",
   "execution_count": 56,
   "metadata": {},
   "outputs": [],
   "source": [
    "df_SR=data_SR['OPEN']"
   ]
  },
  {
   "cell_type": "code",
   "execution_count": 57,
   "metadata": {},
   "outputs": [],
   "source": [
    "df_SR=pd.DataFrame(df_SR)"
   ]
  },
  {
   "cell_type": "code",
   "execution_count": 58,
   "metadata": {},
   "outputs": [],
   "source": [
    "df_SR['Year']=df_SR.OPEN.str[0:4]"
   ]
  },
  {
   "cell_type": "code",
   "execution_count": 59,
   "metadata": {},
   "outputs": [
    {
     "data": {
      "text/plain": [
       "0     2019\n",
       "2     2019\n",
       "6     2019\n",
       "9     2019\n",
       "11    2019\n",
       "Name: Year, dtype: object"
      ]
     },
     "execution_count": 59,
     "metadata": {},
     "output_type": "execute_result"
    }
   ],
   "source": [
    "df_SR['Year'].head()"
   ]
  },
  {
   "cell_type": "code",
   "execution_count": 60,
   "metadata": {},
   "outputs": [],
   "source": [
    "df_SR['Month']=df_SR.OPEN.str[5:7]"
   ]
  },
  {
   "cell_type": "code",
   "execution_count": 61,
   "metadata": {},
   "outputs": [
    {
     "data": {
      "text/plain": [
       "0     05\n",
       "2     05\n",
       "6     05\n",
       "9     05\n",
       "11    05\n",
       "Name: Month, dtype: object"
      ]
     },
     "execution_count": 61,
     "metadata": {},
     "output_type": "execute_result"
    }
   ],
   "source": [
    "df_SR['Month'].head()"
   ]
  },
  {
   "cell_type": "code",
   "execution_count": 62,
   "metadata": {},
   "outputs": [],
   "source": [
    "df_SR['Day']=df_SR.OPEN.str[8:10]"
   ]
  },
  {
   "cell_type": "code",
   "execution_count": 63,
   "metadata": {},
   "outputs": [],
   "source": [
    "df_SR['Hours']=df_SR.OPEN.str[11:13]"
   ]
  },
  {
   "cell_type": "code",
   "execution_count": 64,
   "metadata": {},
   "outputs": [
    {
     "data": {
      "text/plain": [
       "0     01\n",
       "2     01\n",
       "6     01\n",
       "9     01\n",
       "11    01\n",
       "Name: Day, dtype: object"
      ]
     },
     "execution_count": 64,
     "metadata": {},
     "output_type": "execute_result"
    }
   ],
   "source": [
    "df_SR['Day'].head()"
   ]
  },
  {
   "cell_type": "code",
   "execution_count": 65,
   "metadata": {},
   "outputs": [
    {
     "data": {
      "text/html": [
       "<div>\n",
       "<style scoped>\n",
       "    .dataframe tbody tr th:only-of-type {\n",
       "        vertical-align: middle;\n",
       "    }\n",
       "\n",
       "    .dataframe tbody tr th {\n",
       "        vertical-align: top;\n",
       "    }\n",
       "\n",
       "    .dataframe thead th {\n",
       "        text-align: right;\n",
       "    }\n",
       "</style>\n",
       "<table border=\"1\" class=\"dataframe\">\n",
       "  <thead>\n",
       "    <tr style=\"text-align: right;\">\n",
       "      <th></th>\n",
       "      <th>OPEN</th>\n",
       "      <th>Year</th>\n",
       "      <th>Month</th>\n",
       "      <th>Day</th>\n",
       "      <th>Hours</th>\n",
       "    </tr>\n",
       "  </thead>\n",
       "  <tbody>\n",
       "    <tr>\n",
       "      <th>0</th>\n",
       "      <td>2019-05-01 00:10:57</td>\n",
       "      <td>2019</td>\n",
       "      <td>05</td>\n",
       "      <td>01</td>\n",
       "      <td>00</td>\n",
       "    </tr>\n",
       "    <tr>\n",
       "      <th>2</th>\n",
       "      <td>2019-05-01 00:15:57</td>\n",
       "      <td>2019</td>\n",
       "      <td>05</td>\n",
       "      <td>01</td>\n",
       "      <td>00</td>\n",
       "    </tr>\n",
       "    <tr>\n",
       "      <th>6</th>\n",
       "      <td>2019-05-01 00:20:33</td>\n",
       "      <td>2019</td>\n",
       "      <td>05</td>\n",
       "      <td>01</td>\n",
       "      <td>00</td>\n",
       "    </tr>\n",
       "    <tr>\n",
       "      <th>9</th>\n",
       "      <td>2019-05-01 00:24:44</td>\n",
       "      <td>2019</td>\n",
       "      <td>05</td>\n",
       "      <td>01</td>\n",
       "      <td>00</td>\n",
       "    </tr>\n",
       "    <tr>\n",
       "      <th>11</th>\n",
       "      <td>2019-05-01 00:36:46</td>\n",
       "      <td>2019</td>\n",
       "      <td>05</td>\n",
       "      <td>01</td>\n",
       "      <td>00</td>\n",
       "    </tr>\n",
       "  </tbody>\n",
       "</table>\n",
       "</div>"
      ],
      "text/plain": [
       "                   OPEN  Year Month Day Hours\n",
       "0   2019-05-01 00:10:57  2019    05  01    00\n",
       "2   2019-05-01 00:15:57  2019    05  01    00\n",
       "6   2019-05-01 00:20:33  2019    05  01    00\n",
       "9   2019-05-01 00:24:44  2019    05  01    00\n",
       "11  2019-05-01 00:36:46  2019    05  01    00"
      ]
     },
     "execution_count": 65,
     "metadata": {},
     "output_type": "execute_result"
    }
   ],
   "source": [
    "df_SR.head()"
   ]
  },
  {
   "cell_type": "code",
   "execution_count": 66,
   "metadata": {},
   "outputs": [],
   "source": [
    "dframe_SR=df_SR[['Year','Month','Day','Hours']]"
   ]
  },
  {
   "cell_type": "code",
   "execution_count": 67,
   "metadata": {},
   "outputs": [
    {
     "data": {
      "text/html": [
       "<div>\n",
       "<style scoped>\n",
       "    .dataframe tbody tr th:only-of-type {\n",
       "        vertical-align: middle;\n",
       "    }\n",
       "\n",
       "    .dataframe tbody tr th {\n",
       "        vertical-align: top;\n",
       "    }\n",
       "\n",
       "    .dataframe thead th {\n",
       "        text-align: right;\n",
       "    }\n",
       "</style>\n",
       "<table border=\"1\" class=\"dataframe\">\n",
       "  <thead>\n",
       "    <tr style=\"text-align: right;\">\n",
       "      <th></th>\n",
       "      <th>Year</th>\n",
       "      <th>Month</th>\n",
       "      <th>Day</th>\n",
       "      <th>Hours</th>\n",
       "    </tr>\n",
       "  </thead>\n",
       "  <tbody>\n",
       "    <tr>\n",
       "      <th>0</th>\n",
       "      <td>2019</td>\n",
       "      <td>05</td>\n",
       "      <td>01</td>\n",
       "      <td>00</td>\n",
       "    </tr>\n",
       "    <tr>\n",
       "      <th>2</th>\n",
       "      <td>2019</td>\n",
       "      <td>05</td>\n",
       "      <td>01</td>\n",
       "      <td>00</td>\n",
       "    </tr>\n",
       "    <tr>\n",
       "      <th>6</th>\n",
       "      <td>2019</td>\n",
       "      <td>05</td>\n",
       "      <td>01</td>\n",
       "      <td>00</td>\n",
       "    </tr>\n",
       "    <tr>\n",
       "      <th>9</th>\n",
       "      <td>2019</td>\n",
       "      <td>05</td>\n",
       "      <td>01</td>\n",
       "      <td>00</td>\n",
       "    </tr>\n",
       "    <tr>\n",
       "      <th>11</th>\n",
       "      <td>2019</td>\n",
       "      <td>05</td>\n",
       "      <td>01</td>\n",
       "      <td>00</td>\n",
       "    </tr>\n",
       "  </tbody>\n",
       "</table>\n",
       "</div>"
      ],
      "text/plain": [
       "    Year Month Day Hours\n",
       "0   2019    05  01    00\n",
       "2   2019    05  01    00\n",
       "6   2019    05  01    00\n",
       "9   2019    05  01    00\n",
       "11  2019    05  01    00"
      ]
     },
     "execution_count": 67,
     "metadata": {},
     "output_type": "execute_result"
    }
   ],
   "source": [
    "dframe_SR.head()"
   ]
  },
  {
   "cell_type": "code",
   "execution_count": 68,
   "metadata": {},
   "outputs": [],
   "source": [
    "dframe_SR=dframe_SR.reset_index(drop=True)"
   ]
  },
  {
   "cell_type": "code",
   "execution_count": 69,
   "metadata": {},
   "outputs": [
    {
     "data": {
      "text/html": [
       "<div>\n",
       "<style scoped>\n",
       "    .dataframe tbody tr th:only-of-type {\n",
       "        vertical-align: middle;\n",
       "    }\n",
       "\n",
       "    .dataframe tbody tr th {\n",
       "        vertical-align: top;\n",
       "    }\n",
       "\n",
       "    .dataframe thead th {\n",
       "        text-align: right;\n",
       "    }\n",
       "</style>\n",
       "<table border=\"1\" class=\"dataframe\">\n",
       "  <thead>\n",
       "    <tr style=\"text-align: right;\">\n",
       "      <th></th>\n",
       "      <th>Year</th>\n",
       "      <th>Month</th>\n",
       "      <th>Day</th>\n",
       "      <th>Hours</th>\n",
       "    </tr>\n",
       "  </thead>\n",
       "  <tbody>\n",
       "    <tr>\n",
       "      <th>0</th>\n",
       "      <td>2019</td>\n",
       "      <td>05</td>\n",
       "      <td>01</td>\n",
       "      <td>00</td>\n",
       "    </tr>\n",
       "    <tr>\n",
       "      <th>1</th>\n",
       "      <td>2019</td>\n",
       "      <td>05</td>\n",
       "      <td>01</td>\n",
       "      <td>00</td>\n",
       "    </tr>\n",
       "    <tr>\n",
       "      <th>2</th>\n",
       "      <td>2019</td>\n",
       "      <td>05</td>\n",
       "      <td>01</td>\n",
       "      <td>00</td>\n",
       "    </tr>\n",
       "    <tr>\n",
       "      <th>3</th>\n",
       "      <td>2019</td>\n",
       "      <td>05</td>\n",
       "      <td>01</td>\n",
       "      <td>00</td>\n",
       "    </tr>\n",
       "    <tr>\n",
       "      <th>4</th>\n",
       "      <td>2019</td>\n",
       "      <td>05</td>\n",
       "      <td>01</td>\n",
       "      <td>00</td>\n",
       "    </tr>\n",
       "  </tbody>\n",
       "</table>\n",
       "</div>"
      ],
      "text/plain": [
       "   Year Month Day Hours\n",
       "0  2019    05  01    00\n",
       "1  2019    05  01    00\n",
       "2  2019    05  01    00\n",
       "3  2019    05  01    00\n",
       "4  2019    05  01    00"
      ]
     },
     "execution_count": 69,
     "metadata": {},
     "output_type": "execute_result"
    }
   ],
   "source": [
    "dframe_SR.head()"
   ]
  },
  {
   "cell_type": "code",
   "execution_count": 70,
   "metadata": {},
   "outputs": [
    {
     "data": {
      "image/png": "[encoded data removed]",
      "text/plain": [
       "<Figure size 432x288 with 1 Axes>"
      ]
     },
     "metadata": {
      "needs_background": "light"
     },
     "output_type": "display_data"
    }
   ],
   "source": [
    "pd.value_counts(dframe_SR['Month']).plot.bar()\n",
    "plt.title('Service Requests by Monthly',fontweight=\"bold\")\n",
    "plt.xlabel('Months')\n",
    "plt.ylabel('No. Of SRs')\n",
    "plt.show()"
   ]
  },
  {
   "cell_type": "code",
   "execution_count": 71,
   "metadata": {},
   "outputs": [
    {
     "data": {
      "text/plain": [
       "array(['05', '06', '07', '08'], dtype=object)"
      ]
     },
     "execution_count": 71,
     "metadata": {},
     "output_type": "execute_result"
    }
   ],
   "source": [
    "labels=dframe_SR['Month'].unique()\n",
    "labels"
   ]
  },
  {
   "cell_type": "code",
   "execution_count": 72,
   "metadata": {},
   "outputs": [],
   "source": [
    "mcount=pd.value_counts(dframe_SR['Month']).sort_index()"
   ]
  },
  {
   "cell_type": "code",
   "execution_count": 73,
   "metadata": {},
   "outputs": [
    {
     "data": {
      "text/plain": [
       "05    5817\n",
       "06    4967\n",
       "07    5460\n",
       "08    5344\n",
       "Name: Month, dtype: int64"
      ]
     },
     "execution_count": 73,
     "metadata": {},
     "output_type": "execute_result"
    }
   ],
   "source": [
    "mcount"
   ]
  },
  {
   "cell_type": "code",
   "execution_count": 74,
   "metadata": {},
   "outputs": [],
   "source": [
    "mcount=pd.DataFrame(mcount)"
   ]
  },
  {
   "cell_type": "markdown",
   "metadata": {},
   "source": [
    "## Plotting Service requests by monthly"
   ]
  },
  {
   "cell_type": "code",
   "execution_count": 75,
   "metadata": {},
   "outputs": [
    {
     "data": {
      "image/png": "[encoded data removed]",
      "text/plain": [
       "<Figure size 576x504 with 1 Axes>"
      ]
     },
     "metadata": {
      "needs_background": "light"
     },
     "output_type": "display_data"
    }
   ],
   "source": [
    "x=np.arange(len(labels))\n",
    "\n",
    "fig,ax=plt.subplots(figsize=(8,7))\n",
    "scal=plt.bar(x-width/2,mcount['Month'],width=0.35)\n",
    "\n",
    "ax.set_xlabel('Months')\n",
    "ax.set_ylabel('No Of SRs')\n",
    "ax.set_title('Service Requests by Monthly count',fontweight='bold')\n",
    "ax.set_xticks(x)\n",
    "ax.set_xticklabels(labels)\n",
    "\n",
    "autolabel(scal)\n",
    "\n",
    "plt.show()"
   ]
  },
  {
   "cell_type": "markdown",
   "metadata": {},
   "source": [
    "# Service Request count by Daily"
   ]
  },
  {
   "cell_type": "code",
   "execution_count": 76,
   "metadata": {},
   "outputs": [
    {
     "data": {
      "text/plain": [
       "array(['01', '02', '03', '04', '05', '06', '07', '08', '09', '10', '11',\n",
       "       '12', '13', '14', '15', '16', '17', '18', '19', '20', '21', '22',\n",
       "       '23', '24', '25', '26', '27', '28', '29', '30', '31'], dtype=object)"
      ]
     },
     "execution_count": 76,
     "metadata": {},
     "output_type": "execute_result"
    }
   ],
   "source": [
    "labels=dframe_SR['Day'].unique()\n",
    "labels"
   ]
  },
  {
   "cell_type": "code",
   "execution_count": 77,
   "metadata": {},
   "outputs": [],
   "source": [
    "dcount=pd.value_counts(dframe_SR['Day']).sort_index()"
   ]
  },
  {
   "cell_type": "code",
   "execution_count": 78,
   "metadata": {},
   "outputs": [],
   "source": [
    "dcount=pd.DataFrame(dcount)"
   ]
  },
  {
   "cell_type": "code",
   "execution_count": 79,
   "metadata": {},
   "outputs": [
    {
     "data": {
      "image/png": "[encoded data removed]",
      "text/plain": [
       "<Figure size 1296x504 with 1 Axes>"
      ]
     },
     "metadata": {
      "needs_background": "light"
     },
     "output_type": "display_data"
    }
   ],
   "source": [
    "x=np.arange(len(labels))\n",
    "\n",
    "fig,ax = plt.subplots(figsize=(18,7))\n",
    "dcal=plt.bar(x-width/2,dcount['Day'],width=0.40)\n",
    "\n",
    "ax.set_xlabel('Date of the Day')\n",
    "ax.set_ylabel('No. of SRs')\n",
    "ax.set_title('Daily count of Service Requests',fontweight='bold')\n",
    "ax.set_xticks(x)\n",
    "ax.set_xticklabels(labels)\n",
    "\n",
    "autolabel(dcal)\n",
    "\n",
    "plt.show()"
   ]
  },
  {
   "cell_type": "markdown",
   "metadata": {},
   "source": [
    "# Hourly Service Request (SR) count"
   ]
  },
  {
   "cell_type": "code",
   "execution_count": 80,
   "metadata": {},
   "outputs": [],
   "source": [
    "labels=dframe_SR['Hours'].unique()"
   ]
  },
  {
   "cell_type": "code",
   "execution_count": 81,
   "metadata": {},
   "outputs": [
    {
     "data": {
      "text/plain": [
       "array(['00', '01', '02', '03', '04', '05', '06', '07', '08', '09', '10',\n",
       "       '11', '12', '13', '14', '15', '16', '17', '18', '19', '20', '21',\n",
       "       '22', '23'], dtype=object)"
      ]
     },
     "execution_count": 81,
     "metadata": {},
     "output_type": "execute_result"
    }
   ],
   "source": [
    "labels"
   ]
  },
  {
   "cell_type": "code",
   "execution_count": 82,
   "metadata": {},
   "outputs": [],
   "source": [
    "hrcount=pd.value_counts(dframe_SR['Hours']).sort_index()"
   ]
  },
  {
   "cell_type": "code",
   "execution_count": 83,
   "metadata": {},
   "outputs": [],
   "source": [
    "hrcount=pd.DataFrame(hrcount)"
   ]
  },
  {
   "cell_type": "code",
   "execution_count": 84,
   "metadata": {},
   "outputs": [
    {
     "data": {
      "text/html": [
       "<div>\n",
       "<style scoped>\n",
       "    .dataframe tbody tr th:only-of-type {\n",
       "        vertical-align: middle;\n",
       "    }\n",
       "\n",
       "    .dataframe tbody tr th {\n",
       "        vertical-align: top;\n",
       "    }\n",
       "\n",
       "    .dataframe thead th {\n",
       "        text-align: right;\n",
       "    }\n",
       "</style>\n",
       "<table border=\"1\" class=\"dataframe\">\n",
       "  <thead>\n",
       "    <tr style=\"text-align: right;\">\n",
       "      <th></th>\n",
       "      <th>Hours</th>\n",
       "    </tr>\n",
       "  </thead>\n",
       "  <tbody>\n",
       "    <tr>\n",
       "      <th>00</th>\n",
       "      <td>425</td>\n",
       "    </tr>\n",
       "    <tr>\n",
       "      <th>01</th>\n",
       "      <td>424</td>\n",
       "    </tr>\n",
       "    <tr>\n",
       "      <th>02</th>\n",
       "      <td>475</td>\n",
       "    </tr>\n",
       "    <tr>\n",
       "      <th>03</th>\n",
       "      <td>564</td>\n",
       "    </tr>\n",
       "    <tr>\n",
       "      <th>04</th>\n",
       "      <td>496</td>\n",
       "    </tr>\n",
       "  </tbody>\n",
       "</table>\n",
       "</div>"
      ],
      "text/plain": [
       "    Hours\n",
       "00    425\n",
       "01    424\n",
       "02    475\n",
       "03    564\n",
       "04    496"
      ]
     },
     "execution_count": 84,
     "metadata": {},
     "output_type": "execute_result"
    }
   ],
   "source": [
    "hrcount.head()"
   ]
  },
  {
   "cell_type": "code",
   "execution_count": 85,
   "metadata": {},
   "outputs": [
    {
     "data": {
      "image/png": "[encoded data removed]",
      "text/plain": [
       "<Figure size 1296x432 with 1 Axes>"
      ]
     },
     "metadata": {
      "needs_background": "light"
     },
     "output_type": "display_data"
    }
   ],
   "source": [
    "x=np.arange(len(labels))\n",
    "\n",
    "fig, ax=plt.subplots(figsize=(18,6))\n",
    "hrcal=plt.bar(x-width/2,hrcount['Hours'],width=0.40)\n",
    "\n",
    "ax.set_xlabel('Hours Of The Day')\n",
    "ax.set_ylabel('No. Of SRs')\n",
    "ax.set_title('Hourly Service Request Count',fontweight='bold')\n",
    "ax.set_xticks(x)\n",
    "ax.set_xticklabels(labels)\n",
    "\n",
    "autolabel(hrcal)\n",
    "\n",
    "plt.show()"
   ]
  },
  {
   "cell_type": "markdown",
   "metadata": {},
   "source": [
    "### Conclusion :"
   ]
  },
  {
   "cell_type": "markdown",
   "metadata": {},
   "source": [
    "As per hourly service request report, the Workload is high from 8:00 AM to 17:00 PM."
   ]
  }
 ],
 "metadata": {
  "kernelspec": {
   "display_name": "Python 3",
   "language": "python",
   "name": "python3"
  },
  "language_info": {
   "codemirror_mode": {
    "name": "ipython",
    "version": 3
   },
   "file_extension": ".py",
   "mimetype": "text/x-python",
   "name": "python",
   "nbconvert_exporter": "python",
   "pygments_lexer": "ipython3",
   "version": "3.7.3"
  }
 },
 "nbformat": 4,
 "nbformat_minor": 2
}
